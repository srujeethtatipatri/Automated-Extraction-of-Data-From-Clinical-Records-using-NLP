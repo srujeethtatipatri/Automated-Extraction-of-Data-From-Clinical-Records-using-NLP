{
 "cells": [
  {
   "cell_type": "markdown",
   "metadata": {},
   "source": [
    " Return of a Portfolio of Securities"
   ]
  },
  {
   "cell_type": "code",
   "execution_count": 2,
   "metadata": {},
   "outputs": [],
   "source": [
    "import numpy as np\n",
    "import pandas as pd\n",
    "from pandas_datareader import data as wb\n",
    "import matplotlib.pyplot as plt"
   ]
  },
  {
   "cell_type": "code",
   "execution_count": 6,
   "metadata": {},
   "outputs": [],
   "source": [
    "#Load the data\n",
    "tickers = ['NEE', 'TSLA', 'FSLR', 'BEP', 'SEDG', 'ENPH', 'ORA', 'LNG', 'NEP', 'AY']\n",
    "mydata = pd.DataFrame()\n",
    "for t in tickers:\n",
    "    mydata[t] = wb.DataReader(t, data_source='yahoo', start='2016-1-1')['Close']"
   ]
  },
  {
   "cell_type": "code",
   "execution_count": 7,
   "metadata": {},
   "outputs": [
    {
     "name": "stdout",
     "output_type": "stream",
     "text": [
      "<class 'pandas.core.frame.DataFrame'>\n",
      "DatetimeIndex: 1304 entries, 2016-01-04 to 2021-03-09\n",
      "Data columns (total 10 columns):\n",
      " #   Column  Non-Null Count  Dtype  \n",
      "---  ------  --------------  -----  \n",
      " 0   NEE     1304 non-null   float64\n",
      " 1   TSLA    1304 non-null   float64\n",
      " 2   FSLR    1304 non-null   float64\n",
      " 3   BEP     1304 non-null   float64\n",
      " 4   SEDG    1304 non-null   float64\n",
      " 5   ENPH    1304 non-null   float64\n",
      " 6   ORA     1304 non-null   float64\n",
      " 7   LNG     1304 non-null   float64\n",
      " 8   NEP     1304 non-null   float64\n",
      " 9   AY      1304 non-null   float64\n",
      "dtypes: float64(10)\n",
      "memory usage: 112.1 KB\n"
     ]
    }
   ],
   "source": [
    "mydata.info()"
   ]
  },
  {
   "cell_type": "code",
   "execution_count": 8,
   "metadata": {},
   "outputs": [
    {
     "data": {
      "text/html": [
       "<div>\n",
       "<style scoped>\n",
       "    .dataframe tbody tr th:only-of-type {\n",
       "        vertical-align: middle;\n",
       "    }\n",
       "\n",
       "    .dataframe tbody tr th {\n",
       "        vertical-align: top;\n",
       "    }\n",
       "\n",
       "    .dataframe thead th {\n",
       "        text-align: right;\n",
       "    }\n",
       "</style>\n",
       "<table border=\"1\" class=\"dataframe\">\n",
       "  <thead>\n",
       "    <tr style=\"text-align: right;\">\n",
       "      <th></th>\n",
       "      <th>NEE</th>\n",
       "      <th>TSLA</th>\n",
       "      <th>FSLR</th>\n",
       "      <th>BEP</th>\n",
       "      <th>SEDG</th>\n",
       "      <th>ENPH</th>\n",
       "      <th>ORA</th>\n",
       "      <th>LNG</th>\n",
       "      <th>NEP</th>\n",
       "      <th>AY</th>\n",
       "    </tr>\n",
       "    <tr>\n",
       "      <th>Date</th>\n",
       "      <th></th>\n",
       "      <th></th>\n",
       "      <th></th>\n",
       "      <th></th>\n",
       "      <th></th>\n",
       "      <th></th>\n",
       "      <th></th>\n",
       "      <th></th>\n",
       "      <th></th>\n",
       "      <th></th>\n",
       "    </tr>\n",
       "  </thead>\n",
       "  <tbody>\n",
       "    <tr>\n",
       "      <th>2016-01-04</th>\n",
       "      <td>25.892500</td>\n",
       "      <td>44.681999</td>\n",
       "      <td>66.720001</td>\n",
       "      <td>13.562483</td>\n",
       "      <td>28.000000</td>\n",
       "      <td>3.49</td>\n",
       "      <td>35.150002</td>\n",
       "      <td>37.509998</td>\n",
       "      <td>29.230000</td>\n",
       "      <td>18.620001</td>\n",
       "    </tr>\n",
       "    <tr>\n",
       "      <th>2016-01-05</th>\n",
       "      <td>26.145000</td>\n",
       "      <td>44.686001</td>\n",
       "      <td>72.029999</td>\n",
       "      <td>13.685052</td>\n",
       "      <td>29.490000</td>\n",
       "      <td>3.35</td>\n",
       "      <td>35.230000</td>\n",
       "      <td>38.470001</td>\n",
       "      <td>28.610001</td>\n",
       "      <td>18.370001</td>\n",
       "    </tr>\n",
       "    <tr>\n",
       "      <th>2016-01-06</th>\n",
       "      <td>26.059999</td>\n",
       "      <td>43.807999</td>\n",
       "      <td>69.519997</td>\n",
       "      <td>13.498535</td>\n",
       "      <td>29.129999</td>\n",
       "      <td>3.16</td>\n",
       "      <td>35.630001</td>\n",
       "      <td>37.060001</td>\n",
       "      <td>28.280001</td>\n",
       "      <td>17.990000</td>\n",
       "    </tr>\n",
       "    <tr>\n",
       "      <th>2016-01-07</th>\n",
       "      <td>26.174999</td>\n",
       "      <td>43.130001</td>\n",
       "      <td>66.220001</td>\n",
       "      <td>12.757794</td>\n",
       "      <td>27.660000</td>\n",
       "      <td>3.00</td>\n",
       "      <td>35.360001</td>\n",
       "      <td>34.970001</td>\n",
       "      <td>27.110001</td>\n",
       "      <td>17.500000</td>\n",
       "    </tr>\n",
       "    <tr>\n",
       "      <th>2016-01-08</th>\n",
       "      <td>26.292500</td>\n",
       "      <td>42.200001</td>\n",
       "      <td>65.620003</td>\n",
       "      <td>12.571276</td>\n",
       "      <td>26.709999</td>\n",
       "      <td>2.99</td>\n",
       "      <td>35.380001</td>\n",
       "      <td>35.009998</td>\n",
       "      <td>28.080000</td>\n",
       "      <td>17.650000</td>\n",
       "    </tr>\n",
       "  </tbody>\n",
       "</table>\n",
       "</div>"
      ],
      "text/plain": [
       "                  NEE       TSLA       FSLR        BEP       SEDG  ENPH  \\\n",
       "Date                                                                      \n",
       "2016-01-04  25.892500  44.681999  66.720001  13.562483  28.000000  3.49   \n",
       "2016-01-05  26.145000  44.686001  72.029999  13.685052  29.490000  3.35   \n",
       "2016-01-06  26.059999  43.807999  69.519997  13.498535  29.129999  3.16   \n",
       "2016-01-07  26.174999  43.130001  66.220001  12.757794  27.660000  3.00   \n",
       "2016-01-08  26.292500  42.200001  65.620003  12.571276  26.709999  2.99   \n",
       "\n",
       "                  ORA        LNG        NEP         AY  \n",
       "Date                                                    \n",
       "2016-01-04  35.150002  37.509998  29.230000  18.620001  \n",
       "2016-01-05  35.230000  38.470001  28.610001  18.370001  \n",
       "2016-01-06  35.630001  37.060001  28.280001  17.990000  \n",
       "2016-01-07  35.360001  34.970001  27.110001  17.500000  \n",
       "2016-01-08  35.380001  35.009998  28.080000  17.650000  "
      ]
     },
     "execution_count": 8,
     "metadata": {},
     "output_type": "execute_result"
    }
   ],
   "source": [
    "mydata.head()"
   ]
  },
  {
   "cell_type": "code",
   "execution_count": 9,
   "metadata": {
    "scrolled": true
   },
   "outputs": [
    {
     "data": {
      "text/html": [
       "<div>\n",
       "<style scoped>\n",
       "    .dataframe tbody tr th:only-of-type {\n",
       "        vertical-align: middle;\n",
       "    }\n",
       "\n",
       "    .dataframe tbody tr th {\n",
       "        vertical-align: top;\n",
       "    }\n",
       "\n",
       "    .dataframe thead th {\n",
       "        text-align: right;\n",
       "    }\n",
       "</style>\n",
       "<table border=\"1\" class=\"dataframe\">\n",
       "  <thead>\n",
       "    <tr style=\"text-align: right;\">\n",
       "      <th></th>\n",
       "      <th>NEE</th>\n",
       "      <th>TSLA</th>\n",
       "      <th>FSLR</th>\n",
       "      <th>BEP</th>\n",
       "      <th>SEDG</th>\n",
       "      <th>ENPH</th>\n",
       "      <th>ORA</th>\n",
       "      <th>LNG</th>\n",
       "      <th>NEP</th>\n",
       "      <th>AY</th>\n",
       "    </tr>\n",
       "    <tr>\n",
       "      <th>Date</th>\n",
       "      <th></th>\n",
       "      <th></th>\n",
       "      <th></th>\n",
       "      <th></th>\n",
       "      <th></th>\n",
       "      <th></th>\n",
       "      <th></th>\n",
       "      <th></th>\n",
       "      <th></th>\n",
       "      <th></th>\n",
       "    </tr>\n",
       "  </thead>\n",
       "  <tbody>\n",
       "    <tr>\n",
       "      <th>2021-03-03</th>\n",
       "      <td>72.519997</td>\n",
       "      <td>653.200012</td>\n",
       "      <td>78.879997</td>\n",
       "      <td>42.259998</td>\n",
       "      <td>274.730011</td>\n",
       "      <td>161.119995</td>\n",
       "      <td>81.239998</td>\n",
       "      <td>69.080002</td>\n",
       "      <td>72.070000</td>\n",
       "      <td>34.509998</td>\n",
       "    </tr>\n",
       "    <tr>\n",
       "      <th>2021-03-04</th>\n",
       "      <td>71.290001</td>\n",
       "      <td>621.440002</td>\n",
       "      <td>75.360001</td>\n",
       "      <td>40.540001</td>\n",
       "      <td>256.260010</td>\n",
       "      <td>149.880005</td>\n",
       "      <td>78.199997</td>\n",
       "      <td>73.269997</td>\n",
       "      <td>69.459999</td>\n",
       "      <td>34.770000</td>\n",
       "    </tr>\n",
       "    <tr>\n",
       "      <th>2021-03-05</th>\n",
       "      <td>70.699997</td>\n",
       "      <td>597.950012</td>\n",
       "      <td>73.699997</td>\n",
       "      <td>38.779999</td>\n",
       "      <td>249.429993</td>\n",
       "      <td>143.550003</td>\n",
       "      <td>80.199997</td>\n",
       "      <td>72.650002</td>\n",
       "      <td>69.260002</td>\n",
       "      <td>35.160000</td>\n",
       "    </tr>\n",
       "    <tr>\n",
       "      <th>2021-03-08</th>\n",
       "      <td>70.860001</td>\n",
       "      <td>563.000000</td>\n",
       "      <td>71.449997</td>\n",
       "      <td>38.430000</td>\n",
       "      <td>246.710007</td>\n",
       "      <td>132.059998</td>\n",
       "      <td>79.199997</td>\n",
       "      <td>73.199997</td>\n",
       "      <td>69.739998</td>\n",
       "      <td>35.040001</td>\n",
       "    </tr>\n",
       "    <tr>\n",
       "      <th>2021-03-09</th>\n",
       "      <td>74.184998</td>\n",
       "      <td>633.679993</td>\n",
       "      <td>75.779999</td>\n",
       "      <td>40.528400</td>\n",
       "      <td>275.679993</td>\n",
       "      <td>148.460007</td>\n",
       "      <td>83.724998</td>\n",
       "      <td>74.106003</td>\n",
       "      <td>73.334999</td>\n",
       "      <td>36.200001</td>\n",
       "    </tr>\n",
       "  </tbody>\n",
       "</table>\n",
       "</div>"
      ],
      "text/plain": [
       "                  NEE        TSLA       FSLR        BEP        SEDG  \\\n",
       "Date                                                                  \n",
       "2021-03-03  72.519997  653.200012  78.879997  42.259998  274.730011   \n",
       "2021-03-04  71.290001  621.440002  75.360001  40.540001  256.260010   \n",
       "2021-03-05  70.699997  597.950012  73.699997  38.779999  249.429993   \n",
       "2021-03-08  70.860001  563.000000  71.449997  38.430000  246.710007   \n",
       "2021-03-09  74.184998  633.679993  75.779999  40.528400  275.679993   \n",
       "\n",
       "                  ENPH        ORA        LNG        NEP         AY  \n",
       "Date                                                                \n",
       "2021-03-03  161.119995  81.239998  69.080002  72.070000  34.509998  \n",
       "2021-03-04  149.880005  78.199997  73.269997  69.459999  34.770000  \n",
       "2021-03-05  143.550003  80.199997  72.650002  69.260002  35.160000  \n",
       "2021-03-08  132.059998  79.199997  73.199997  69.739998  35.040001  \n",
       "2021-03-09  148.460007  83.724998  74.106003  73.334999  36.200001  "
      ]
     },
     "execution_count": 9,
     "metadata": {},
     "output_type": "execute_result"
    }
   ],
   "source": [
    "mydata.tail()"
   ]
  },
  {
   "cell_type": "code",
   "execution_count": 10,
   "metadata": {},
   "outputs": [
    {
     "data": {
      "image/png": "[encoded data removed]",
      "text/plain": [
       "<Figure size 1080x432 with 1 Axes>"
      ]
     },
     "metadata": {
      "needs_background": "light"
     },
     "output_type": "display_data"
    }
   ],
   "source": [
    "mydata.plot(figsize = (15, 6))\n",
    "plt.show()"
   ]
  },
  {
   "cell_type": "markdown",
   "metadata": {},
   "source": [
    "### Normalization to 100:\n",
    "\n",
    "$$\n",
    "\\frac {P_t}{P_0} * 100\n",
    "$$"
   ]
  },
  {
   "cell_type": "code",
   "execution_count": 11,
   "metadata": {},
   "outputs": [
    {
     "data": {
      "text/plain": [
       "NEE     25.892500\n",
       "TSLA    44.681999\n",
       "FSLR    66.720001\n",
       "BEP     13.562483\n",
       "SEDG    28.000000\n",
       "ENPH     3.490000\n",
       "ORA     35.150002\n",
       "LNG     37.509998\n",
       "NEP     29.230000\n",
       "AY      18.620001\n",
       "Name: 2016-01-04 00:00:00, dtype: float64"
      ]
     },
     "execution_count": 11,
     "metadata": {},
     "output_type": "execute_result"
    }
   ],
   "source": [
    "mydata.iloc[0]"
   ]
  },
  {
   "cell_type": "code",
   "execution_count": 12,
   "metadata": {},
   "outputs": [
    {
     "data": {
      "image/png": "[encoded data removed]",
      "text/plain": [
       "<Figure size 1080x432 with 1 Axes>"
      ]
     },
     "metadata": {
      "needs_background": "light"
     },
     "output_type": "display_data"
    }
   ],
   "source": [
    "(mydata / mydata.iloc[0] * 100).plot(figsize = (15, 6));\n",
    "plt.show()"
   ]
  },
  {
   "cell_type": "markdown",
   "metadata": {},
   "source": [
    "*****"
   ]
  },
  {
   "cell_type": "markdown",
   "metadata": {},
   "source": [
    "Calculating the Return "
   ]
  },
  {
   "cell_type": "code",
   "execution_count": 13,
   "metadata": {},
   "outputs": [
    {
     "data": {
      "text/html": [
       "<div>\n",
       "<style scoped>\n",
       "    .dataframe tbody tr th:only-of-type {\n",
       "        vertical-align: middle;\n",
       "    }\n",
       "\n",
       "    .dataframe tbody tr th {\n",
       "        vertical-align: top;\n",
       "    }\n",
       "\n",
       "    .dataframe thead th {\n",
       "        text-align: right;\n",
       "    }\n",
       "</style>\n",
       "<table border=\"1\" class=\"dataframe\">\n",
       "  <thead>\n",
       "    <tr style=\"text-align: right;\">\n",
       "      <th></th>\n",
       "      <th>NEE</th>\n",
       "      <th>TSLA</th>\n",
       "      <th>FSLR</th>\n",
       "      <th>BEP</th>\n",
       "      <th>SEDG</th>\n",
       "      <th>ENPH</th>\n",
       "      <th>ORA</th>\n",
       "      <th>LNG</th>\n",
       "      <th>NEP</th>\n",
       "      <th>AY</th>\n",
       "    </tr>\n",
       "    <tr>\n",
       "      <th>Date</th>\n",
       "      <th></th>\n",
       "      <th></th>\n",
       "      <th></th>\n",
       "      <th></th>\n",
       "      <th></th>\n",
       "      <th></th>\n",
       "      <th></th>\n",
       "      <th></th>\n",
       "      <th></th>\n",
       "      <th></th>\n",
       "    </tr>\n",
       "  </thead>\n",
       "  <tbody>\n",
       "    <tr>\n",
       "      <th>2016-01-04</th>\n",
       "      <td>NaN</td>\n",
       "      <td>NaN</td>\n",
       "      <td>NaN</td>\n",
       "      <td>NaN</td>\n",
       "      <td>NaN</td>\n",
       "      <td>NaN</td>\n",
       "      <td>NaN</td>\n",
       "      <td>NaN</td>\n",
       "      <td>NaN</td>\n",
       "      <td>NaN</td>\n",
       "    </tr>\n",
       "    <tr>\n",
       "      <th>2016-01-05</th>\n",
       "      <td>0.009752</td>\n",
       "      <td>0.000090</td>\n",
       "      <td>0.079586</td>\n",
       "      <td>0.009037</td>\n",
       "      <td>0.053214</td>\n",
       "      <td>-0.040115</td>\n",
       "      <td>0.002276</td>\n",
       "      <td>0.025593</td>\n",
       "      <td>-0.021211</td>\n",
       "      <td>-0.013426</td>\n",
       "    </tr>\n",
       "    <tr>\n",
       "      <th>2016-01-06</th>\n",
       "      <td>-0.003251</td>\n",
       "      <td>-0.019648</td>\n",
       "      <td>-0.034847</td>\n",
       "      <td>-0.013629</td>\n",
       "      <td>-0.012208</td>\n",
       "      <td>-0.056716</td>\n",
       "      <td>0.011354</td>\n",
       "      <td>-0.036652</td>\n",
       "      <td>-0.011534</td>\n",
       "      <td>-0.020686</td>\n",
       "    </tr>\n",
       "    <tr>\n",
       "      <th>2016-01-07</th>\n",
       "      <td>0.004413</td>\n",
       "      <td>-0.015477</td>\n",
       "      <td>-0.047468</td>\n",
       "      <td>-0.054876</td>\n",
       "      <td>-0.050463</td>\n",
       "      <td>-0.050633</td>\n",
       "      <td>-0.007578</td>\n",
       "      <td>-0.056395</td>\n",
       "      <td>-0.041372</td>\n",
       "      <td>-0.027237</td>\n",
       "    </tr>\n",
       "    <tr>\n",
       "      <th>2016-01-08</th>\n",
       "      <td>0.004489</td>\n",
       "      <td>-0.021563</td>\n",
       "      <td>-0.009061</td>\n",
       "      <td>-0.014620</td>\n",
       "      <td>-0.034346</td>\n",
       "      <td>-0.003333</td>\n",
       "      <td>0.000566</td>\n",
       "      <td>0.001144</td>\n",
       "      <td>0.035780</td>\n",
       "      <td>0.008571</td>\n",
       "    </tr>\n",
       "  </tbody>\n",
       "</table>\n",
       "</div>"
      ],
      "text/plain": [
       "                 NEE      TSLA      FSLR       BEP      SEDG      ENPH  \\\n",
       "Date                                                                     \n",
       "2016-01-04       NaN       NaN       NaN       NaN       NaN       NaN   \n",
       "2016-01-05  0.009752  0.000090  0.079586  0.009037  0.053214 -0.040115   \n",
       "2016-01-06 -0.003251 -0.019648 -0.034847 -0.013629 -0.012208 -0.056716   \n",
       "2016-01-07  0.004413 -0.015477 -0.047468 -0.054876 -0.050463 -0.050633   \n",
       "2016-01-08  0.004489 -0.021563 -0.009061 -0.014620 -0.034346 -0.003333   \n",
       "\n",
       "                 ORA       LNG       NEP        AY  \n",
       "Date                                                \n",
       "2016-01-04       NaN       NaN       NaN       NaN  \n",
       "2016-01-05  0.002276  0.025593 -0.021211 -0.013426  \n",
       "2016-01-06  0.011354 -0.036652 -0.011534 -0.020686  \n",
       "2016-01-07 -0.007578 -0.056395 -0.041372 -0.027237  \n",
       "2016-01-08  0.000566  0.001144  0.035780  0.008571  "
      ]
     },
     "execution_count": 13,
     "metadata": {},
     "output_type": "execute_result"
    }
   ],
   "source": [
    "returns = (mydata / mydata.shift(1)) - 1\n",
    "returns.head()"
   ]
  },
  {
   "cell_type": "code",
   "execution_count": 14,
   "metadata": {},
   "outputs": [
    {
     "data": {
      "text/html": [
       "<div>\n",
       "<style scoped>\n",
       "    .dataframe tbody tr th:only-of-type {\n",
       "        vertical-align: middle;\n",
       "    }\n",
       "\n",
       "    .dataframe tbody tr th {\n",
       "        vertical-align: top;\n",
       "    }\n",
       "\n",
       "    .dataframe thead th {\n",
       "        text-align: right;\n",
       "    }\n",
       "</style>\n",
       "<table border=\"1\" class=\"dataframe\">\n",
       "  <thead>\n",
       "    <tr style=\"text-align: right;\">\n",
       "      <th></th>\n",
       "      <th>NEE</th>\n",
       "      <th>TSLA</th>\n",
       "      <th>FSLR</th>\n",
       "      <th>BEP</th>\n",
       "      <th>SEDG</th>\n",
       "      <th>ENPH</th>\n",
       "      <th>ORA</th>\n",
       "      <th>LNG</th>\n",
       "      <th>NEP</th>\n",
       "      <th>AY</th>\n",
       "    </tr>\n",
       "    <tr>\n",
       "      <th>Date</th>\n",
       "      <th></th>\n",
       "      <th></th>\n",
       "      <th></th>\n",
       "      <th></th>\n",
       "      <th></th>\n",
       "      <th></th>\n",
       "      <th></th>\n",
       "      <th></th>\n",
       "      <th></th>\n",
       "      <th></th>\n",
       "    </tr>\n",
       "  </thead>\n",
       "  <tbody>\n",
       "    <tr>\n",
       "      <th>2016-01-04</th>\n",
       "      <td>NaN</td>\n",
       "      <td>NaN</td>\n",
       "      <td>NaN</td>\n",
       "      <td>NaN</td>\n",
       "      <td>NaN</td>\n",
       "      <td>NaN</td>\n",
       "      <td>NaN</td>\n",
       "      <td>NaN</td>\n",
       "      <td>NaN</td>\n",
       "      <td>NaN</td>\n",
       "    </tr>\n",
       "    <tr>\n",
       "      <th>2016-01-05</th>\n",
       "      <td>0.009752</td>\n",
       "      <td>0.000090</td>\n",
       "      <td>0.079586</td>\n",
       "      <td>0.009037</td>\n",
       "      <td>0.053214</td>\n",
       "      <td>-0.040115</td>\n",
       "      <td>0.002276</td>\n",
       "      <td>0.025593</td>\n",
       "      <td>-0.021211</td>\n",
       "      <td>-0.013426</td>\n",
       "    </tr>\n",
       "    <tr>\n",
       "      <th>2016-01-06</th>\n",
       "      <td>-0.003251</td>\n",
       "      <td>-0.019648</td>\n",
       "      <td>-0.034847</td>\n",
       "      <td>-0.013629</td>\n",
       "      <td>-0.012208</td>\n",
       "      <td>-0.056716</td>\n",
       "      <td>0.011354</td>\n",
       "      <td>-0.036652</td>\n",
       "      <td>-0.011534</td>\n",
       "      <td>-0.020686</td>\n",
       "    </tr>\n",
       "    <tr>\n",
       "      <th>2016-01-07</th>\n",
       "      <td>0.004413</td>\n",
       "      <td>-0.015477</td>\n",
       "      <td>-0.047468</td>\n",
       "      <td>-0.054876</td>\n",
       "      <td>-0.050463</td>\n",
       "      <td>-0.050633</td>\n",
       "      <td>-0.007578</td>\n",
       "      <td>-0.056395</td>\n",
       "      <td>-0.041372</td>\n",
       "      <td>-0.027237</td>\n",
       "    </tr>\n",
       "    <tr>\n",
       "      <th>2016-01-08</th>\n",
       "      <td>0.004489</td>\n",
       "      <td>-0.021563</td>\n",
       "      <td>-0.009061</td>\n",
       "      <td>-0.014620</td>\n",
       "      <td>-0.034346</td>\n",
       "      <td>-0.003333</td>\n",
       "      <td>0.000566</td>\n",
       "      <td>0.001144</td>\n",
       "      <td>0.035780</td>\n",
       "      <td>0.008571</td>\n",
       "    </tr>\n",
       "  </tbody>\n",
       "</table>\n",
       "</div>"
      ],
      "text/plain": [
       "                 NEE      TSLA      FSLR       BEP      SEDG      ENPH  \\\n",
       "Date                                                                     \n",
       "2016-01-04       NaN       NaN       NaN       NaN       NaN       NaN   \n",
       "2016-01-05  0.009752  0.000090  0.079586  0.009037  0.053214 -0.040115   \n",
       "2016-01-06 -0.003251 -0.019648 -0.034847 -0.013629 -0.012208 -0.056716   \n",
       "2016-01-07  0.004413 -0.015477 -0.047468 -0.054876 -0.050463 -0.050633   \n",
       "2016-01-08  0.004489 -0.021563 -0.009061 -0.014620 -0.034346 -0.003333   \n",
       "\n",
       "                 ORA       LNG       NEP        AY  \n",
       "Date                                                \n",
       "2016-01-04       NaN       NaN       NaN       NaN  \n",
       "2016-01-05  0.002276  0.025593 -0.021211 -0.013426  \n",
       "2016-01-06  0.011354 -0.036652 -0.011534 -0.020686  \n",
       "2016-01-07 -0.007578 -0.056395 -0.041372 -0.027237  \n",
       "2016-01-08  0.000566  0.001144  0.035780  0.008571  "
      ]
     },
     "execution_count": 14,
     "metadata": {},
     "output_type": "execute_result"
    }
   ],
   "source": [
    "change=mydata.pct_change()\n",
    "change.head()"
   ]
  },
  {
   "cell_type": "markdown",
   "metadata": {},
   "source": [
    "First, assume you would like to create an equally-weighted portfolio. Create the array, naming it “weights”.\n",
    "\n",
    "Make sre portfolios weight must sum up to 1"
   ]
  },
  {
   "cell_type": "code",
   "execution_count": 15,
   "metadata": {},
   "outputs": [],
   "source": [
    "weights = np.array([0.10, 0.10, 0.10, 0.10, 0.10, 0.10, 0.10, 0.10, 0.10, 0.10])"
   ]
  },
  {
   "cell_type": "code",
   "execution_count": 16,
   "metadata": {},
   "outputs": [
    {
     "data": {
      "text/plain": [
       "NEE     0.229756\n",
       "TSLA    0.677288\n",
       "FSLR    0.134477\n",
       "BEP     0.253383\n",
       "SEDG    0.624645\n",
       "ENPH    1.092148\n",
       "ORA     0.217774\n",
       "LNG     0.200831\n",
       "NEP     0.243358\n",
       "AY      0.179631\n",
       "dtype: float64"
      ]
     },
     "execution_count": 16,
     "metadata": {},
     "output_type": "execute_result"
    }
   ],
   "source": [
    "annual_returns = returns.mean() * 250\n",
    "annual_returns"
   ]
  },
  {
   "cell_type": "code",
   "execution_count": 17,
   "metadata": {},
   "outputs": [
    {
     "data": {
      "text/plain": [
       "0.3853291499903774"
      ]
     },
     "execution_count": 17,
     "metadata": {},
     "output_type": "execute_result"
    }
   ],
   "source": [
    "np.dot(annual_returns, weights)"
   ]
  },
  {
   "cell_type": "code",
   "execution_count": 18,
   "metadata": {},
   "outputs": [
    {
     "name": "stdout",
     "output_type": "stream",
     "text": [
      "38.533 %\n"
     ]
    }
   ],
   "source": [
    "pfolio_1 = str(round(np.dot(annual_returns, weights), 5) * 100) + ' %'\n",
    "print (pfolio_1)"
   ]
  },
  {
   "cell_type": "code",
   "execution_count": 19,
   "metadata": {},
   "outputs": [],
   "source": [
    "weights_2 = np.array([0.25, 0.05, 0.15, 0.1, 0.02, 0.18, 0.05, 0.08, 0.12, 0.1])"
   ]
  },
  {
   "cell_type": "code",
   "execution_count": 20,
   "metadata": {},
   "outputs": [
    {
     "name": "stdout",
     "output_type": "stream",
     "text": [
      "pfolio_2 is 42.001 %\n",
      "pfolio_1 is 38.533 %\n"
     ]
    }
   ],
   "source": [
    "pfolio_2 = str(round(np.dot(annual_returns, weights_2), 5) * 100) + ' %'\n",
    "print ('pfolio_2 is '+pfolio_2)\n",
    "print ('pfolio_1 is '+ pfolio_1)"
   ]
  },
  {
   "cell_type": "code",
   "execution_count": null,
   "metadata": {},
   "outputs": [],
   "source": []
  },
  {
   "cell_type": "code",
   "execution_count": null,
   "metadata": {},
   "outputs": [],
   "source": []
  }
 ],
 "metadata": {
  "kernelspec": {
   "display_name": "Python 3",
   "language": "python",
   "name": "python3"
  },
  "language_info": {
   "codemirror_mode": {
    "name": "ipython",
    "version": 3
   },
   "file_extension": ".py",
   "mimetype": "text/x-python",
   "name": "python",
   "nbconvert_exporter": "python",
   "pygments_lexer": "ipython3",
   "version": "3.8.5"
  }
 },
 "nbformat": 4,
 "nbformat_minor": 2
}
