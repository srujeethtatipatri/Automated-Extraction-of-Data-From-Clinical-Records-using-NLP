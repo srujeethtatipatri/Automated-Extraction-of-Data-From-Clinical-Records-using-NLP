{
 "cells": [
  {
   "cell_type": "code",
   "execution_count": 1,
   "metadata": {},
   "outputs": [],
   "source": [
    "data = [' lanier document',\n",
    " ' document unique rad 1060529',\n",
    " ' status changes',\n",
    " ' transcribed pr 2019 12 13',\n",
    " ' type consultation',\n",
    " ' dictating physician name , caroline m .',\n",
    " ' attending rad oncologist name , caroline m .',\n",
    " ' patient referred pr rieder , scott',\n",
    " ' primary care physician chand , pavanjeet',\n",
    " ' attending med oncologist name , caroline m .',\n",
    " ' tah mass mass cgy',\n",
    " ' a airrmmmmasann lens patient pr dob j encounter sagat med f healthcard jggaaaaaaaaaaaae phone nelsen attending rad out caroline pr name , med , f.r.c.p .',\n",
    " ' pr attending med out caroline pr name , med , f.r.c.p .',\n",
    " ' pr family physician pavanjeet chand , med , c.c.f.p .',\n",
    " ' npr physician scott rieder , med .',\n",
    " ' dictated pr caroline pr name , med , f.r.c.p .',\n",
    " ' pr cgy tah scott rieder , med .',\n",
    " ' pavanjeet chand , med , c.c.f.p .',\n",
    " ' date pr visit december 13 , 2019',\n",
    " ' consultation revised december 18 , 2019 08 54 pr',\n",
    " ' clarissa es a er pleasant 55 er rad female seen today pr clinic with a diagnosis pr estrogen receptor positive breast cancer .',\n",
    " ' es es care four consideration pr neoadjuvant chemotherapy .',\n",
    " ' er disease case identified pr screening mammogram tah es case been getting routinely .',\n",
    " ' pr september 23 , 2019 there care enlarged lymph nodes pr type right breast es right axilla .',\n",
    " ' not npr lesion case demonstrated pr type right breast , out further thickening around type nipple case identified compared tah previous .',\n",
    " ' not left breast pr left axillary adenopathy .',\n",
    " ' a biopsy pr type right axillary lymph nodes care phone first rad these care compatible with metastatic adenocarcinoma .',\n",
    " ' type tumour case four tah pr strongly estrogen receptor positive date 90 , progesterone receptor positive date 5 , rad er case not phone .',\n",
    " ' a',\n",
    " ' a biopsy pr type breast case phone pr october 30 , 2019 rad this revealed intra lymphatic carcinoma only with a tumour emboli pr type lymphatic changes .',\n",
    " ' not defined mass case identified pr biopsy despite multiple nodes performed .',\n",
    " ' left axillary lymph note case biopsied rad tah case negative .',\n",
    " ' es nodes ave staging booked .',\n",
    " ' es case a pr scan booked four tonight , phone scan booked four december 23 , 2019 , rad muga booked four tuesday .',\n",
    " ' case radical history',\n",
    " ' tah cnnenennnennmnannanetneteeeem es pr pr not ,']"
   ]
  },
  {
   "cell_type": "code",
   "execution_count": 2,
   "metadata": {},
   "outputs": [],
   "source": [
    "from gensim.summarization.summarizer import summarize\n",
    "from gensim.summarization import keywords\n"
   ]
  },
  {
   "cell_type": "code",
   "execution_count": 6,
   "metadata": {},
   "outputs": [
    {
     "name": "stdout",
     "output_type": "stream",
     "text": [
      "['attending rad oncologist name , caroline m ..', 'primary care physician chand , pavanjeet.', 'attending med oncologist name , caroline m ..', 'a airrmmmmasann lens patient pr dob j encounter sagat med f healthcard jggaaaaaaaaaaaae phone nelsen attending rad out caroline pr name , med , f.r.c.p ..', 'pr family physician pavanjeet chand , med , c.c.f.p ..', 'npr physician scott rieder , med ..', 'dictated pr caroline pr name , med , f.r.c.p ..', 'pr cgy tah scott rieder , med ..', 'pavanjeet chand , med , c.c.f.p ..', 'pr september 23 , 2019 there care enlarged lymph nodes pr type right breast es right axilla ..', 'not npr lesion case demonstrated pr type right breast , out further thickening around type nipple case identified compared tah previous ..', 'a biopsy pr type right axillary lymph nodes care phone first rad these care compatible with metastatic adenocarcinoma ..', 'type tumour case four tah pr strongly estrogen receptor positive date 90 , progesterone receptor positive date 5 , rad er case not phone ..', 'a. a biopsy pr type breast case phone pr october 30 , 2019 rad this revealed intra lymphatic carcinoma only with a tumour emboli pr type lymphatic changes ..', 'not defined mass case identified pr biopsy despite multiple nodes performed ..', 'left axillary lymph note case biopsied rad tah case negative ..', 'es case a pr scan booked four tonight , phone scan booked four december 23 , 2019 , rad muga booked four tuesday ..']\n"
     ]
    }
   ],
   "source": [
    "print(summarize('.'.join(data), split=True, ratio=0.5))"
   ]
  },
  {
   "cell_type": "code",
   "execution_count": 7,
   "metadata": {},
   "outputs": [
    {
     "name": "stdout",
     "output_type": "stream",
     "text": [
      "case\n",
      "rad\n",
      "tah\n",
      "med\n",
      "type\n",
      "physician\n",
      "phone\n",
      "breast\n",
      "care\n",
      "nodes\n"
     ]
    }
   ],
   "source": [
    "print(keywords('.'.join(data), words = 10))"
   ]
  }
 ],
 "metadata": {
  "kernelspec": {
   "display_name": "Python 3",
   "language": "python",
   "name": "python3"
  },
  "language_info": {
   "codemirror_mode": {
    "name": "ipython",
    "version": 3
   },
   "file_extension": ".py",
   "mimetype": "text/x-python",
   "name": "python",
   "nbconvert_exporter": "python",
   "pygments_lexer": "ipython3",
   "version": "3.8.5"
  }
 },
 "nbformat": 4,
 "nbformat_minor": 4
}
